{
 "cells": [
  {
   "cell_type": "code",
   "execution_count": 7,
   "metadata": {},
   "outputs": [],
   "source": [
    "from search_wiki_data import *\n",
    "from make_gazetteer import *\n",
    "from datasets.process_multiconer import _is_divider\n"
   ]
  },
  {
   "cell_type": "code",
   "execution_count": 8,
   "metadata": {},
   "outputs": [],
   "source": [
    "def write_to_file(file_path, mydict):\n",
    "    with open(file_path, 'w', encoding='utf-8') as f:\n",
    "        json.dump(mydict, f, ensure_ascii=False, indent=4)"
   ]
  },
  {
   "cell_type": "code",
   "execution_count": 9,
   "metadata": {},
   "outputs": [
    {
     "name": "stderr",
     "output_type": "stream",
     "text": [
      "  0%|          | 0/25369 [00:00<?, ?it/s]"
     ]
    },
    {
     "name": "stderr",
     "output_type": "stream",
     "text": [
      " 11%|█         | 2678/25369 [44:43<4:22:34,  1.44it/s] "
     ]
    },
    {
     "name": "stdout",
     "output_type": "stream",
     "text": [
      "Sleep for 300!\n",
      "\n"
     ]
    },
    {
     "name": "stderr",
     "output_type": "stream",
     "text": [
      " 21%|██▏       | 5428/25369 [1:36:09<9:37:04,  1.74s/it] "
     ]
    },
    {
     "name": "stdout",
     "output_type": "stream",
     "text": [
      "Sleep for 300!\n",
      "\n"
     ]
    },
    {
     "name": "stderr",
     "output_type": "stream",
     "text": [
      " 32%|███▏      | 8225/25369 [2:29:14<6:04:19,  1.28s/it]  "
     ]
    },
    {
     "name": "stdout",
     "output_type": "stream",
     "text": [
      "Sleep for 300!\n",
      "\n"
     ]
    },
    {
     "name": "stderr",
     "output_type": "stream",
     "text": [
      " 43%|████▎     | 11003/25369 [3:24:12<3:23:36,  1.18it/s] "
     ]
    },
    {
     "name": "stdout",
     "output_type": "stream",
     "text": [
      "Sleep for 300!\n",
      "\n"
     ]
    },
    {
     "name": "stderr",
     "output_type": "stream",
     "text": [
      " 54%|█████▍    | 13770/25369 [4:17:09<2:22:20,  1.36it/s]  "
     ]
    },
    {
     "name": "stdout",
     "output_type": "stream",
     "text": [
      "Sleep for 300!\n",
      "\n"
     ]
    },
    {
     "name": "stderr",
     "output_type": "stream",
     "text": [
      " 65%|██████▍   | 16480/25369 [5:09:59<1:01:25,  2.41it/s]  "
     ]
    },
    {
     "name": "stdout",
     "output_type": "stream",
     "text": [
      "Sleep for 300!\n",
      "\n"
     ]
    },
    {
     "name": "stderr",
     "output_type": "stream",
     "text": [
      " 76%|███████▌  | 19239/25369 [5:58:03<1:00:04,  1.70it/s] "
     ]
    },
    {
     "name": "stdout",
     "output_type": "stream",
     "text": [
      "Sleep for 300!\n",
      "\n"
     ]
    },
    {
     "name": "stderr",
     "output_type": "stream",
     "text": [
      " 86%|████████▋ | 21937/25369 [6:48:16<50:12,  1.14it/s]   "
     ]
    },
    {
     "name": "stdout",
     "output_type": "stream",
     "text": [
      "Sleep for 300!\n",
      "\n"
     ]
    },
    {
     "name": "stderr",
     "output_type": "stream",
     "text": [
      " 97%|█████████▋| 24656/25369 [7:36:33<20:09,  1.70s/it]   "
     ]
    },
    {
     "name": "stdout",
     "output_type": "stream",
     "text": [
      "Sleep for 300!\n",
      "\n"
     ]
    },
    {
     "name": "stderr",
     "output_type": "stream",
     "text": [
      "100%|██████████| 25369/25369 [7:53:32<00:00,  1.12s/it]   \n"
     ]
    }
   ],
   "source": [
    "'''\n",
    "Script to find most frequent topics when search wikidata for a label (LOC, ADR, drug, ...)\n",
    "'''\n",
    "label = \"SYMPTOM_AND_DISEASE\"\n",
    "topic_freq = {}\n",
    "path_to_train_data = 'datasets/vimq/vimq'\n",
    "lang = 'en'\n",
    "limit = 2\n",
    "out_put_file_path = f\"{label}_topic_freq.txt\"\n",
    "\n",
    "with open(path_to_train_data, 'r', encoding='utf-8') as fin:\n",
    "    entity_counter = 1\n",
    "    sleep_time = 300\n",
    "    entity_counter = 1\n",
    "    total_lines = sum(1 for _ in fin)\n",
    "    fin.seek(0)\n",
    "    for line in tqdm(fin, total=total_lines):\n",
    "        line = line.strip().replace('\\u200d', '').replace('\\u200c', '').replace('\\u200b', '')\n",
    "        if _is_divider(line):\n",
    "            continue\n",
    "        if line.startswith('# id'):\n",
    "            continue\n",
    "        tag = line.split()[-1]\n",
    "        entity = ' '.join(line.split()[:-1])\n",
    "        if tag != label:\n",
    "            continue\n",
    "\n",
    "        entity_counter += 1\n",
    "\n",
    "        wiki_topics = get_topics_from_wkdt_search_tool(url, api_url, entity, lang, limit)\n",
    "        for topic in wiki_topics:\n",
    "            topic_freq[topic] = topic_freq.get(topic, 0) + 1\n",
    "        if entity_counter % 1000 == 0:\n",
    "            print(f\"Sleep for {sleep_time}!\\n\")\n",
    "            time.sleep(sleep_time)\n",
    "        # write results to file every 100 entities to advoid data loss in case the program crashed\n",
    "        if entity_counter % 100 == 0:\n",
    "            sorted_topic_freq = dict(sorted(topic_freq.items(), key=lambda item: item[1], reverse=True))\n",
    "            write_to_file(out_put_file_path, sorted_topic_freq)\n",
    "    if entity_counter % 100 != 0:  # This check ensures we only write if there's data that hasn't been written yet\n",
    "        sorted_topic_freq = dict(sorted(topic_freq.items(), key=lambda item: item[1], reverse=True))\n",
    "        write_to_file(out_put_file_path, sorted_topic_freq)    \n",
    "# print(topic_freq)"
   ]
  }
 ],
 "metadata": {
  "kernelspec": {
   "display_name": ".venv",
   "language": "python",
   "name": "python3"
  },
  "language_info": {
   "codemirror_mode": {
    "name": "ipython",
    "version": 3
   },
   "file_extension": ".py",
   "mimetype": "text/x-python",
   "name": "python",
   "nbconvert_exporter": "python",
   "pygments_lexer": "ipython3",
   "version": "3.8.18"
  }
 },
 "nbformat": 4,
 "nbformat_minor": 2
}
