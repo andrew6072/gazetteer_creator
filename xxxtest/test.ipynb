{
 "cells": [
  {
   "cell_type": "code",
   "execution_count": 7,
   "metadata": {},
   "outputs": [],
   "source": [
    "from search_wiki_data import *\n",
    "from make_gazetteer import *\n",
    "from datasets.process_multiconer import _is_divider\n"
   ]
  },
  {
   "cell_type": "code",
   "execution_count": 8,
   "metadata": {},
   "outputs": [],
   "source": [
    "def write_to_file(file_path, mydict):\n",
    "    with open(file_path, 'w', encoding='utf-8') as f:\n",
    "        json.dump(mydict, f, ensure_ascii=False, indent=4)"
   ]
  },
  {
   "cell_type": "code",
   "execution_count": 9,
   "metadata": {},
   "outputs": [
    {
     "name": "stderr",
     "output_type": "stream",
     "text": [
      "  0%|          | 0/25369 [00:00<?, ?it/s]"
     ]
    },
    {
     "name": "stderr",
     "output_type": "stream",
     "text": [
      "100%|██████████| 25369/25369 [33:41<00:00, 12.55it/s]  \n"
     ]
    }
   ],
   "source": [
    "'''\n",
    "Script to find most frequent topics when search wikidata for a label (LOC, ADR, drug, ...)\n",
    "'''\n",
    "label = \"drug\"\n",
    "topic_freq = {}\n",
    "path_to_train_data = 'datasets/vimq/vimq'\n",
    "lang = 'en'\n",
    "limit = 5\n",
    "out_put_file_path = f\"retrived_topics/vimq/{label}_topic_freq.txt\"\n",
    "\n",
    "with open(path_to_train_data, 'r', encoding='utf-8') as fin:\n",
    "    entity_counter = 1\n",
    "    sleep_time = 300\n",
    "    entity_counter = 1\n",
    "    total_lines = sum(1 for _ in fin)\n",
    "    fin.seek(0)\n",
    "    for line in tqdm(fin, total=total_lines):\n",
    "        line = line.strip().replace('\\u200d', '').replace('\\u200c', '').replace('\\u200b', '')\n",
    "        if _is_divider(line):\n",
    "            continue\n",
    "        if line.startswith('# id'):\n",
    "            continue\n",
    "        tag = line.split()[-1]\n",
    "        entity = ' '.join(line.split()[:-1])\n",
    "        if tag != label:\n",
    "            continue\n",
    "\n",
    "        entity_counter += 1\n",
    "\n",
    "        wiki_topics = get_topics_from_wkdt_search_tool(url, api_url, entity, lang, limit)\n",
    "        for topic, topic_id in wiki_topics.items():\n",
    "            text = f\"{topic} | {topic_id}\"\n",
    "            topic_freq[text] = topic_freq.get(text, 0) + 1\n",
    "\n",
    "        if entity_counter % 1000 == 0:\n",
    "            print(f\"Sleep for {sleep_time}!\\n\")\n",
    "            time.sleep(sleep_time)\n",
    "        # write results to file every 100 entities to advoid data loss in case the program crashed\n",
    "        if entity_counter % 100 == 0:\n",
    "            sorted_topic_freq = dict(sorted(topic_freq.items(), key=lambda item: item[1], reverse=True))\n",
    "            write_to_file(out_put_file_path, sorted_topic_freq)\n",
    "    if entity_counter % 100 != 0:  # This check ensures we only write if there's data that hasn't been written yet\n",
    "        sorted_topic_freq = dict(sorted(topic_freq.items(), key=lambda item: item[1], reverse=True))\n",
    "        write_to_file(out_put_file_path, sorted_topic_freq)    \n",
    "# print(topic_freq)"
   ]
  }
 ],
 "metadata": {
  "kernelspec": {
   "display_name": ".venv",
   "language": "python",
   "name": "python3"
  },
  "language_info": {
   "codemirror_mode": {
    "name": "ipython",
    "version": 3
   },
   "file_extension": ".py",
   "mimetype": "text/x-python",
   "name": "python",
   "nbconvert_exporter": "python",
   "pygments_lexer": "ipython3",
   "version": "3.8.18"
  }
 },
 "nbformat": 4,
 "nbformat_minor": 2
}
